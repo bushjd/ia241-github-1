{
 "cells": [
  {
   "cell_type": "markdown",
   "id": "129953eb",
   "metadata": {},
   "source": [
    "# lab 12\n"
   ]
  },
  {
   "cell_type": "code",
   "execution_count": 1,
   "id": "725572d8",
   "metadata": {},
   "outputs": [],
   "source": [
    "import pandas "
   ]
  },
  {
   "cell_type": "code",
   "execution_count": null,
   "id": "7a7e776c",
   "metadata": {},
   "outputs": [],
   "source": [
    "df - panda.read_excel"
   ]
  }
 ],
 "metadata": {
  "kernelspec": {
   "display_name": "conda_python3",
   "language": "python",
   "name": "conda_python3"
  },
  "language_info": {
   "codemirror_mode": {
    "name": "ipython",
    "version": 3
   },
   "file_extension": ".py",
   "mimetype": "text/x-python",
   "name": "python",
   "nbconvert_exporter": "python",
   "pygments_lexer": "ipython3",
   "version": "3.6.13"
  }
 },
 "nbformat": 4,
 "nbformat_minor": 5
}
