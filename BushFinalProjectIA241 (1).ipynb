{
 "cells": [
  {
   "cell_type": "markdown",
   "id": "f4a83668",
   "metadata": {},
   "source": [
    "# COVID-19 In Russia\n",
    "## By Jack Bush"
   ]
  },
  {
   "cell_type": "markdown",
   "id": "a208ecf8",
   "metadata": {},
   "source": [
    "![Flag](https://encrypted-tbn0.gstatic.com/images?q=tbn:ANd9GcS9AFOGkswgIoeWK0SMTN6n0xk9w1QYxRta6g&usqp=CAU)"
   ]
  },
  {
   "cell_type": "markdown",
   "id": "b08159f3",
   "metadata": {},
   "source": [
    "# Background of COVID-19\n",
    "COVID-19 is an infectious virus in the Coronavirus family that became a global pandemic in 2020. The specific name of the virus is Sars-Cov-2, and it spreads mostly through the air via droplets, saliva, and close contact on surfaces. \n",
    "Shutdowns as a result of the Covid-19 pandemic have caused extensive economic fallout and supply chain issues, the effects of which are still being felt today.\n",
    "# Research Objectives\n",
    "1. Find and plot the total monthly amount of cases\n",
    "2. Find and plot the total monthly amount of deaths\n",
    "3. Visualize the relationship between case totals and deaths\n",
    "4. Hypothesize potential causes for this relationship and examine outside factors that could contribute to the increase in cases\n",
    "\n",
    "# Data Source\n",
    "The data is from the [European CDC](https://www.ecdc.europa.eu/en/publications-data/download-todays-data-geographic-distribution-covid-19-cases-worldwide)"
   ]
  },
  {
   "cell_type": "code",
   "execution_count": 3,
   "id": "59ef79e8",
   "metadata": {},
   "outputs": [],
   "source": [
    "%matplotlib inline\n",
    "import pandas "
   ]
  },
  {
   "cell_type": "markdown",
   "id": "af843062",
   "metadata": {},
   "source": [
    "# Data Format\n",
    "The data is organized daily, by country. It includes the cases, deaths, population, and 2-week case average for each country."
   ]
  },
  {
   "cell_type": "code",
   "execution_count": 4,
   "id": "d523d609",
   "metadata": {},
   "outputs": [
    {
     "data": {
      "text/html": [
       "<div>\n",
       "<style scoped>\n",
       "    .dataframe tbody tr th:only-of-type {\n",
       "        vertical-align: middle;\n",
       "    }\n",
       "\n",
       "    .dataframe tbody tr th {\n",
       "        vertical-align: top;\n",
       "    }\n",
       "\n",
       "    .dataframe thead th {\n",
       "        text-align: right;\n",
       "    }\n",
       "</style>\n",
       "<table border=\"1\" class=\"dataframe\">\n",
       "  <thead>\n",
       "    <tr style=\"text-align: right;\">\n",
       "      <th></th>\n",
       "      <th>dateRep</th>\n",
       "      <th>day</th>\n",
       "      <th>month</th>\n",
       "      <th>year</th>\n",
       "      <th>cases</th>\n",
       "      <th>deaths</th>\n",
       "      <th>countriesAndTerritories</th>\n",
       "      <th>geoId</th>\n",
       "      <th>countryterritoryCode</th>\n",
       "      <th>popData2019</th>\n",
       "      <th>continentExp</th>\n",
       "      <th>Cumulative_number_for_14_days_of_COVID-19_cases_per_100000</th>\n",
       "    </tr>\n",
       "  </thead>\n",
       "  <tbody>\n",
       "    <tr>\n",
       "      <th>0</th>\n",
       "      <td>14/12/2020</td>\n",
       "      <td>14</td>\n",
       "      <td>12</td>\n",
       "      <td>2020</td>\n",
       "      <td>746</td>\n",
       "      <td>6</td>\n",
       "      <td>Afghanistan</td>\n",
       "      <td>AF</td>\n",
       "      <td>AFG</td>\n",
       "      <td>38041757.0</td>\n",
       "      <td>Asia</td>\n",
       "      <td>9.013779</td>\n",
       "    </tr>\n",
       "  </tbody>\n",
       "</table>\n",
       "</div>"
      ],
      "text/plain": [
       "      dateRep  day  month  year  cases  deaths countriesAndTerritories geoId  \\\n",
       "0  14/12/2020   14     12  2020    746       6             Afghanistan    AF   \n",
       "\n",
       "  countryterritoryCode  popData2019 continentExp  \\\n",
       "0                  AFG   38041757.0         Asia   \n",
       "\n",
       "   Cumulative_number_for_14_days_of_COVID-19_cases_per_100000  \n",
       "0                                           9.013779           "
      ]
     },
     "execution_count": 4,
     "metadata": {},
     "output_type": "execute_result"
    }
   ],
   "source": [
    "df = pandas.read_excel('s3://ia241spring2022bush/covid_data.xls')\n",
    "df[:1] #an example row"
   ]
  },
  {
   "cell_type": "markdown",
   "id": "6f00a720",
   "metadata": {},
   "source": [
    "# Russia's Data"
   ]
  },
  {
   "cell_type": "code",
   "execution_count": 6,
   "id": "0aa64f9b",
   "metadata": {},
   "outputs": [
    {
     "data": {
      "text/html": [
       "<div>\n",
       "<style scoped>\n",
       "    .dataframe tbody tr th:only-of-type {\n",
       "        vertical-align: middle;\n",
       "    }\n",
       "\n",
       "    .dataframe tbody tr th {\n",
       "        vertical-align: top;\n",
       "    }\n",
       "\n",
       "    .dataframe thead th {\n",
       "        text-align: right;\n",
       "    }\n",
       "</style>\n",
       "<table border=\"1\" class=\"dataframe\">\n",
       "  <thead>\n",
       "    <tr style=\"text-align: right;\">\n",
       "      <th></th>\n",
       "      <th>dateRep</th>\n",
       "      <th>day</th>\n",
       "      <th>month</th>\n",
       "      <th>year</th>\n",
       "      <th>cases</th>\n",
       "      <th>deaths</th>\n",
       "      <th>countriesAndTerritories</th>\n",
       "      <th>geoId</th>\n",
       "      <th>countryterritoryCode</th>\n",
       "      <th>popData2019</th>\n",
       "      <th>continentExp</th>\n",
       "      <th>Cumulative_number_for_14_days_of_COVID-19_cases_per_100000</th>\n",
       "    </tr>\n",
       "  </thead>\n",
       "  <tbody>\n",
       "    <tr>\n",
       "      <th>46919</th>\n",
       "      <td>14/12/2020</td>\n",
       "      <td>14</td>\n",
       "      <td>12</td>\n",
       "      <td>2020</td>\n",
       "      <td>28080</td>\n",
       "      <td>488</td>\n",
       "      <td>Russia</td>\n",
       "      <td>RU</td>\n",
       "      <td>RUS</td>\n",
       "      <td>145872260.0</td>\n",
       "      <td>Europe</td>\n",
       "      <td>263.663564</td>\n",
       "    </tr>\n",
       "    <tr>\n",
       "      <th>46920</th>\n",
       "      <td>13/12/2020</td>\n",
       "      <td>13</td>\n",
       "      <td>12</td>\n",
       "      <td>2020</td>\n",
       "      <td>28137</td>\n",
       "      <td>560</td>\n",
       "      <td>Russia</td>\n",
       "      <td>RU</td>\n",
       "      <td>RUS</td>\n",
       "      <td>145872260.0</td>\n",
       "      <td>Europe</td>\n",
       "      <td>262.705877</td>\n",
       "    </tr>\n",
       "    <tr>\n",
       "      <th>46921</th>\n",
       "      <td>2020-12-12 00:00:00</td>\n",
       "      <td>12</td>\n",
       "      <td>12</td>\n",
       "      <td>2020</td>\n",
       "      <td>28585</td>\n",
       "      <td>613</td>\n",
       "      <td>Russia</td>\n",
       "      <td>RU</td>\n",
       "      <td>RUS</td>\n",
       "      <td>145872260.0</td>\n",
       "      <td>Europe</td>\n",
       "      <td>261.994981</td>\n",
       "    </tr>\n",
       "  </tbody>\n",
       "</table>\n",
       "</div>"
      ],
      "text/plain": [
       "                   dateRep  day  month  year  cases  deaths  \\\n",
       "46919           14/12/2020   14     12  2020  28080     488   \n",
       "46920           13/12/2020   13     12  2020  28137     560   \n",
       "46921  2020-12-12 00:00:00   12     12  2020  28585     613   \n",
       "\n",
       "      countriesAndTerritories geoId countryterritoryCode  popData2019  \\\n",
       "46919                  Russia    RU                  RUS  145872260.0   \n",
       "46920                  Russia    RU                  RUS  145872260.0   \n",
       "46921                  Russia    RU                  RUS  145872260.0   \n",
       "\n",
       "      continentExp  Cumulative_number_for_14_days_of_COVID-19_cases_per_100000  \n",
       "46919       Europe                                         263.663564           \n",
       "46920       Europe                                         262.705877           \n",
       "46921       Europe                                         261.994981           "
      ]
     },
     "execution_count": 6,
     "metadata": {},
     "output_type": "execute_result"
    }
   ],
   "source": [
    "russia_data = df.loc[ df['countriesAndTerritories']=='Russia' ]\n",
    "\n",
    "russia_data[:3]"
   ]
  },
  {
   "cell_type": "markdown",
   "id": "f2fb85a5",
   "metadata": {},
   "source": [
    "# Russia's case load, by month\n",
    "This graph shows the case totals by month. It is important to recognize that the data does NOT contain all of December, only up to December 14th, therefore the true data for December is likely higher.\n"
   ]
  },
  {
   "cell_type": "code",
   "execution_count": null,
   "id": "e9cb645f",
   "metadata": {},
   "outputs": [],
   "source": [
    "sum_cases_per_month=russia_data.groupby('month').sum()['cases']"
   ]
  },
  {
   "cell_type": "code",
   "execution_count": 9,
   "id": "c77eaa02",
   "metadata": {},
   "outputs": [
    {
     "data": {
      "text/plain": [
       "<AxesSubplot:xlabel='month'>"
      ]
     },
     "execution_count": 9,
     "metadata": {},
     "output_type": "execute_result"
    },
    {
     "data": {
      "image/png": "[encoded data removed]",
      "text/plain": [
       "<Figure size 432x288 with 1 Axes>"
      ]
     },
     "metadata": {
      "needs_background": "light"
     },
     "output_type": "display_data"
    }
   ],
   "source": [
    "sum_cases_per_month.plot.bar()"
   ]
  },
  {
   "cell_type": "markdown",
   "id": "04ccb858",
   "metadata": {},
   "source": [
    "# Russia's Death Rate over time\n",
    "Like the above graph, this graph shows the total deaths by month. Again, it is important to recognize that the data does NOT contain all of December, only up to December 14th, therefore the true data for December is likely higher.\n"
   ]
  },
  {
   "cell_type": "code",
   "execution_count": 13,
   "id": "098ad47a",
   "metadata": {},
   "outputs": [
    {
     "data": {
      "text/plain": [
       "<AxesSubplot:xlabel='month'>"
      ]
     },
     "execution_count": 13,
     "metadata": {},
     "output_type": "execute_result"
    },
    {
     "data": {
      "image/png": "[encoded data removed]",
      "text/plain": [
       "<Figure size 432x288 with 1 Axes>"
      ]
     },
     "metadata": {
      "needs_background": "light"
     },
     "output_type": "display_data"
    }
   ],
   "source": [
    "sum_deaths_per_month=russia_data.groupby('month').sum()['deaths']\n",
    "sum_deaths_per_month.plot.bar()"
   ]
  },
  {
   "cell_type": "markdown",
   "id": "d3ea6821",
   "metadata": {},
   "source": [
    "# Relationship between cases and deaths\n",
    "This scatterplot shows the correlation between total case loads and deaths. Of course, the two are strongly correlated - as more people get the virus, more people may die from it. However, variations along the trend line may indicate changes in healthcare treatment, population immunity to the virus, and measures the Russian government took to limit the spread of COVID-19, such as lockdowns or sanitation campaigns. \n",
    "For the case data, I chose to use the 14-day case average, as the 'cases' only showed new cases for that day and not the total number of people who could be ill at that time."
   ]
  },
  {
   "cell_type": "code",
   "execution_count": 11,
   "id": "0815b053",
   "metadata": {},
   "outputs": [
    {
     "data": {
      "text/plain": [
       "<AxesSubplot:xlabel='Cumulative_number_for_14_days_of_COVID-19_cases_per_100000', ylabel='deaths'>"
      ]
     },
     "execution_count": 11,
     "metadata": {},
     "output_type": "execute_result"
    },
    {
     "data": {
      "image/png": "[encoded data removed]",
      "text/plain": [
       "<Figure size 432x288 with 2 Axes>"
      ]
     },
     "metadata": {
      "needs_background": "light"
     },
     "output_type": "display_data"
    }
   ],
   "source": [
    "russia_data.plot.scatter(x='Cumulative_number_for_14_days_of_COVID-19_cases_per_100000',y='deaths',c='month')"
   ]
  },
  {
   "cell_type": "markdown",
   "id": "eca37a5a",
   "metadata": {},
   "source": [
    "# Calculations and Visualizations\n",
    "The first and second graphs group and sum the entire month, rather than using individual days. The two show a general relationship between cases and deaths, with some variance.\n",
    "Both show a noticable decrease in cases and deaths in the summer months - this is likely due to people spending more time outside, where Covid is less likely to be transmitted. \n",
    "\n",
    "\n",
    "\n",
    "To calculate the scatterplot and show the relationship between cases and deaths, I put the cumulative number of covid cases for a 14-day period against the total number of deaths on that same day. This shows the relationship between the number of people who were sick and the number of people that died. In addition, the spread of the data shows how quickly COVID spiked in the later months of the year, as the earlier months are much more concentrated at the bottom-left of the graph."
   ]
  },
  {
   "cell_type": "markdown",
   "id": "f09d313b",
   "metadata": {},
   "source": [
    "# Conclusions\n",
    "Because Russia is a very cold country, people spend more time indoors, where COVID-19 is transmitted more easily. In addition, the country gets colder earlier in the year, meaning the case numbers and amount of deaths would increase sooner than a warmer country where people can meet outdoors later into the Fall and Winter. October, November, and December all saw massive increases in cases and deaths as people spend more time indoors, and from there the virus only exponentially spread.\n",
    "![Spray](https://images.wsj.net/im-420486?width=860&height=573)\n",
    "The above image is of two Russian sanitation workers spraying a public area."
   ]
  },
  {
   "cell_type": "markdown",
   "id": "3e33d4a0",
   "metadata": {},
   "source": [
    "# Limitations\n",
    "There are some limitations in the data. First, it is suspected that Russia lied about some of their COVID cases in order to prevent economic shutdowns and keep Russian people going in to work. In addition, the data regional info. Russia is the largest country in the world by area- it spans diverse climates, regions, and communities. The data could give more insight if it was collected regionally within Russia rather than for all of Russia as a whole. "
   ]
  },
  {
   "cell_type": "markdown",
   "id": "c192e996",
   "metadata": {},
   "source": [
    "# Author Info\n",
    "Jack Bush is a sophomore Intelligence Analysis student at James Madison University in Harrisonburg, Virginia. He has been studying Russian language, history, and politics for six years. He is currently pursuing minors in Russian Studies and Geographic Science, and works as a Research Intern for Eastern European Studies at the Institute of World Politics. "
   ]
  },
  {
   "cell_type": "code",
   "execution_count": null,
   "id": "869c52d5",
   "metadata": {},
   "outputs": [],
   "source": []
  }
 ],
 "metadata": {
  "kernelspec": {
   "display_name": "conda_python3",
   "language": "python",
   "name": "conda_python3"
  },
  "language_info": {
   "codemirror_mode": {
    "name": "ipython",
    "version": 3
   },
   "file_extension": ".py",
   "mimetype": "text/x-python",
   "name": "python",
   "nbconvert_exporter": "python",
   "pygments_lexer": "ipython3",
   "version": "3.6.13"
  }
 },
 "nbformat": 4,
 "nbformat_minor": 5
}
