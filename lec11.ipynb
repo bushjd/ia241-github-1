{
 "cells": [
  {
   "cell_type": "markdown",
   "id": "b832a5a3",
   "metadata": {},
   "source": [
    "# lec11\n"
   ]
  },
  {
   "cell_type": "code",
   "execution_count": 14,
   "id": "5c965af2",
   "metadata": {},
   "outputs": [
    {
     "name": "stdout",
     "output_type": "stream",
     "text": [
      "and 18\n",
      "for 7\n",
      "to 6\n",
      "the 4\n",
      "of 4\n",
      "in 4\n",
      "JMU 3\n",
      "June 3\n",
      "4 3\n",
      "President 3\n"
     ]
    }
   ],
   "source": [
    "with open('jmu_news.txt','r') as jmu_news:\n",
    "  text_content = jmu_news.read()\n",
    "  word_list = text_content.split()\n",
    "  count_result = Counter(word_list)\n",
    "  for word, count in count_result.most_common(10):\n",
    "    print(word,count)"
   ]
  },
  {
   "cell_type": "code",
   "execution_count": 9,
   "id": "0e52618f",
   "metadata": {},
   "outputs": [],
   "source": [
    "from collections import Counter"
   ]
  },
  {
   "cell_type": "code",
   "execution_count": 12,
   "id": "e33d5ed5",
   "metadata": {},
   "outputs": [
    {
     "name": "stdout",
     "output_type": "stream",
     "text": [
      "Counter({'b': 2, 'a': 1})\n"
     ]
    }
   ],
   "source": [
    "count_result = Counter ( ['a', 'b', 'b'])\n",
    "print(count_result)"
   ]
  },
  {
   "cell_type": "markdown",
   "id": "1e7edb74",
   "metadata": {},
   "source": [
    "# ex1\n",
    "\n"
   ]
  },
  {
   "cell_type": "code",
   "execution_count": 16,
   "id": "63e82f2c",
   "metadata": {},
   "outputs": [
    {
     "ename": "SyntaxError",
     "evalue": "invalid syntax (<ipython-input-16-82c1baa86ec7>, line 1)",
     "output_type": "error",
     "traceback": [
      "\u001b[0;36m  File \u001b[0;32m\"<ipython-input-16-82c1baa86ec7>\"\u001b[0;36m, line \u001b[0;32m1\u001b[0m\n\u001b[0;31m    print('    {} salary is ${}''.format('Tom' , 60000))\u001b[0m\n\u001b[0m                                            ^\u001b[0m\n\u001b[0;31mSyntaxError\u001b[0m\u001b[0;31m:\u001b[0m invalid syntax\n"
     ]
    }
   ],
   "source": [
    "print('    {} salary is ${}''.format('Tom' , 60000) )"
   ]
  },
  {
   "cell_type": "code",
   "execution_count": null,
   "id": "ce967f55",
   "metadata": {},
   "outputs": [],
   "source": []
  }
 ],
 "metadata": {
  "kernelspec": {
   "display_name": "conda_python3",
   "language": "python",
   "name": "conda_python3"
  },
  "language_info": {
   "codemirror_mode": {
    "name": "ipython",
    "version": 3
   },
   "file_extension": ".py",
   "mimetype": "text/x-python",
   "name": "python",
   "nbconvert_exporter": "python",
   "pygments_lexer": "ipython3",
   "version": "3.6.13"
  }
 },
 "nbformat": 4,
 "nbformat_minor": 5
}
